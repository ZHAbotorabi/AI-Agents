{
  "nbformat": 4,
  "nbformat_minor": 0,
  "metadata": {
    "colab": {
      "provenance": [],
      "authorship_tag": "ABX9TyPCRUXDTbD0JJ3yFhUSMx+h",
      "include_colab_link": true
    },
    "kernelspec": {
      "name": "python3",
      "display_name": "Python 3"
    },
    "language_info": {
      "name": "python"
    }
  },
  "cells": [
    {
      "cell_type": "markdown",
      "metadata": {
        "id": "view-in-github",
        "colab_type": "text"
      },
      "source": [
        "<a href=\"https://colab.research.google.com/github/ZHAbotorabi/AI-Agents/blob/main/AI_Agent_Real_Time_Stock_Market_Insights.ipynb\" target=\"_parent\"><img src=\"https://colab.research.google.com/assets/colab-badge.svg\" alt=\"Open In Colab\"/></a>"
      ]
    },
    {
      "cell_type": "markdown",
      "source": [
        "# Building an AI Agent for Real-Time Stock Market Insights\n",
        "\n",
        "## Introduction\n",
        "In today's fast-paced financial landscape, timely access to data is crucial for making informed investment decisions. This article presents the development of an AI agent designed to provide users with real-time updates on stock market news, weather conditions, and current stock prices. By integrating various APIs, this agent streamlines the process of accessing essential information in one convenient platform, demonstrating the practical applications of AI in finance.\n",
        "\n",
        "## Problem Statement\n",
        "Investors often face the challenge of sifting through multiple sources to gather relevant information about stock markets and environmental conditions. Traditional methods can be time-consuming and inefficient, potentially leading to missed opportunities. This AI agent addresses these issues by consolidating crucial data—current market news, weather updates, stock prices, and time—into a single interface, enhancing the user's decision-making process.\n",
        "\n",
        "## Design and Methodology\n",
        "The AI agent is designed to be flexible and customizable, catering to the specific needs and demands of its users. It employs a multi-agent architecture that can be extended for more complex analyses and decision-making processes. The implementation is done in Python, utilizing several libraries and APIs to achieve its functionalities:\n",
        "\n",
        "- **Libraries Used**:\n",
        "  - **Requests**: For making HTTP requests to external APIs.\n",
        "  - **Datetime**: For managing date and time operations.\n",
        "  - **yfinance**: For fetching stock data.\n",
        "\n",
        "- **APIs Integrated**:\n",
        "  - **OpenWeatherMap API**: Provides current weather information for specified cities.\n",
        "  - **NewsAPI**: Fetches the latest stock market news articles.\n",
        "\n",
        "## Implementation/Code Setup\n",
        "\n",
        "The AI agent consists of import statements, the setup of the llm, and several key functionalities/tools:\n",
        "\n",
        "```python\n",
        "import requests  # For making API calls to get weather and stock market news\n",
        "import openai  # For interacting with OpenAI models\n",
        "from langchain.chat_models import ChatOpenAI  # For chat models in LangChain\n",
        "from langchain.prompts import PromptTemplate  # For creating prompts\n",
        "from langchain_core.tools import tool  # For defining tools\n",
        "from langchain_core.runnables import RunnableSequence  # For creating runnable sequences\n",
        "import yfinance as yf  # For fetching stock market data\n",
        "from datetime import datetime  # For handling date and time\n",
        "\n",
        "# Initialize the OpenAI model\n",
        "OPENAI_MODEL_4oMini = \"gpt-4o-mini\"\n",
        "llm = ChatOpenAI(model=OPENAI_MODEL_4oMini, temperature=0, max_tokens=500)\n",
        "\n",
        "# Define a prompt template for the agent\n",
        "prompt_template = PromptTemplate(\n",
        "    input_variables=[\"user_input\"],\n",
        "    template=\"You are an AI agent. Respond to the user input in a helpful manner: {user_input}\"\n",
        ")\n",
        "\n",
        "\n",
        "\n"
      ],
      "metadata": {
        "id": "s8pZ87X6pSiI"
      }
    },
    {
      "cell_type": "markdown",
      "source": [
        "### 1. Current Date and Time Tool\n",
        "This function retrieves the current date and time, formatted for easy readability. It serves as a basic but essential feature for users who need to track time-sensitive information.\n",
        "\n",
        "```python\n",
        "from datetime import datetime\n",
        "\n",
        "@tool\n",
        "def get_current_datetime_tool() -> str:\n",
        "    \"\"\"\n",
        "    Tool that returns the current date and time.\n",
        "    \n",
        "    Returns:\n",
        "        str: A string representation of the current date and time.\n",
        "    \"\"\"\n",
        "    now = datetime.now()\n",
        "    current_time = now.strftime(\"%Y-%m-%d %H:%M:%S\")\n",
        "    return f\"The current date and time is: {current_time}\"\n"
      ],
      "metadata": {
        "id": "ezBC5_e_81sp"
      }
    },
    {
      "cell_type": "markdown",
      "source": [
        "## 2. Weather Tool\n",
        "This tool retrieves real-time weather information for specified cities (e.g., Calgary and Rome) using the OpenWeatherMap API. The JSON response is processed to extract and present a user-friendly weather description.\n",
        "\n",
        "```python\n",
        "import requests\n",
        "\n",
        "@tool\n",
        "def get_weather_tool(city: str) -> str:\n",
        "    \"\"\"Get the weather of a city.\"\"\"\n",
        "    api_key = \"YOUR_API_KEY\"  # Replace with your actual API key\n",
        "    url = f\"http://api.openweathermap.org/data/2.5/weather?q={city}&appid={api_key}\"\n",
        "    \n",
        "    try:\n",
        "        response = requests.get(url)\n",
        "        response.raise_for_status()  # Raise an error for bad responses\n",
        "        data = response.json()\n",
        "        \n",
        "        # Extract relevant information from the JSON data\n",
        "        weather_description = data['weather'][0]['description']\n",
        "        return f\"The weather in {city} is currently {weather_description}.\"\n",
        "    \n",
        "    except requests.exceptions.RequestException as e:\n",
        "        return f\"Error retrieving weather data: {e}\"\n"
      ],
      "metadata": {
        "id": "7zVvyjbqp2wX"
      }
    },
    {
      "cell_type": "markdown",
      "source": [
        "## 3. Stock Market Price Analysis Tool\n",
        "This tool retrieves the current stock prices for major companies like Apple and Google and analyzes whether their prices have increased or decreased compared to their three-month average. This feature is crucial for investors looking to make timely decisions based on market trends.\n",
        "\n",
        "```python\n",
        "@tool\n",
        "def get_stock_price_analysis(stock_symbol: str) -> str:\n",
        "    \"\"\"Analyze stock price trends for a given stock symbol.\"\"\"\n",
        "    # Logic to fetch current price and historical data to compute average\n",
        "    current_price = get_current_price(stock_symbol)  # Placeholder for actual function\n",
        "    three_month_average = get_three_month_average(stock_symbol)  # Placeholder for actual function\n",
        "    \n",
        "    if current_price > three_month_average:\n",
        "        return f\"The current price of {stock_symbol} is {current_price}, which is higher than its three-month average of {three_month_average}.\"\n",
        "    elif current_price < three_month_average:\n",
        "        return f\"The current price of {stock_symbol} is {current_price}, which is lower than its three-month average of {three_month_average}.\"\n",
        "    else:\n",
        "        return f\"The current price of {stock_symbol} is equal to its three-month average of {three_month_average}.\"\n"
      ],
      "metadata": {
        "id": "7cOPBWsPtw5P"
      }
    },
    {
      "cell_type": "markdown",
      "source": [
        "\n",
        "\n",
        "## 4. Stock Market News Tool\n",
        "This function retrieves the latest stock market news articles using the NewsAPI.\n",
        "\n",
        "```python\n",
        "@tool\n",
        "def get_stock_market_news(api_key: str) -> str:\n",
        "    \"\"\"Get the daily stock market news.\"\"\"\n",
        "    url = f\"https://newsapi.org/v2/everything?q=stock%20market&language=en&sortBy=publishedAt&apiKey={api_key}\"\n",
        "    \n",
        "    try:\n",
        "        response = requests.get(url)\n",
        "        response.raise_for_status()  # Raise an error for bad responses\n",
        "        news_data = response.json()\n",
        "        \n",
        "        if news_data['status'] == 'ok':\n",
        "            articles = news_data['articles'][:2]  # Get the top 2 articles\n",
        "            news_summary = \"Today's Stock Market News:\\n\"\n",
        "            \n",
        "            for i, article in enumerate(articles, start=1):\n",
        "                title = article['title']\n",
        "                description = article['description']\n",
        "                url = article['url']\n",
        "                \n",
        "                news_summary += f\"{i}. {title}\\n   {description}\\n   Read more: {url}\\n\\n\"\n",
        "            \n",
        "            return news_summary\n",
        "        else:\n",
        "            return \"Error retrieving news data.\"\n",
        "    \n",
        "    except requests.exceptions.RequestException as e:\n",
        "        return f\"Error retrieving stock market news: {e}\"\n"
      ],
      "metadata": {
        "id": "MQjhv6B0qb-8"
      }
    },
    {
      "cell_type": "markdown",
      "source": [
        "\n",
        "## 5. Stock Comparison Tool\n",
        "This tool compares the current stock price to the average price over a specified period.\n",
        "\n",
        "``` python\n",
        "import yfinance as yf\n",
        "\n",
        "@tool\n",
        "def get_stock_comparison_tool(symbol: str, period: str, steps: int) -> str:\n",
        "    \"\"\"\n",
        "    Tool for comparing the average stock price over a specified period with today's price.\n",
        "    \n",
        "    Args:\n",
        "        symbol (str): Stock symbol to retrieve data for (e.g., \"AAPL\", \"GOOGL\").\n",
        "        period (str): The period to fetch data for (must be one of ['1d', '5d', '1mo', '3mo', '6mo', '1y', '2y', '5y', '10y', 'ytd', 'max']).\n",
        "        steps (int): The number of days to calculate the average from (max 120).\n",
        "\n",
        "    Returns:\n",
        "        str: A comparison result of today's price versus the average price over the specified days.\n",
        "    \"\"\"\n",
        "    \n",
        "    # Define valid periods and enforce max step value\n",
        "    valid_periods = ['1d', '5d', '1mo', '3mo', '6mo', '1y', '2y', '5y', '10y', 'ytd', 'max']\n",
        "    if period not in valid_periods:\n",
        "        return f\"Error: Invalid period. Choose one from {valid_periods}.\"\n",
        "    \n",
        "    if steps > 120:\n",
        "        return \"Error: The number of days (steps) cannot exceed 120.\"\n",
        "    \n",
        "    try:\n",
        "        # Fetch historical stock data for the specified period\n",
        "        stock = yf.Ticker(symbol)\n",
        "        stock_info = stock.history(period=period)\n",
        "        \n",
        "        if stock_info.empty:\n",
        "            return f\"Could not retrieve stock data for {symbol}.\"\n",
        "        \n",
        "        # Ensure steps is within the bounds of the fetched data\n",
        "        if steps >= len(stock_info):\n",
        "            return f\"Error: The number of days (steps) exceeds the available data for the specified period.\"\n",
        "        \n",
        "        # Calculate the average closing price over the last 'steps' days\n",
        "        avg_price = stock_info['Close'].iloc[-(steps+1):-1].mean()  # Exclude today for the average\n",
        "        \n",
        "        # Get today's closing price (last entry in the data)\n",
        "        today_price = stock_info['Close'].iloc[-1]\n",
        "        \n",
        "        # Compare today's price with the 'steps'-day average\n",
        "        if today_price > avg_price:\n",
        "            comparison = \"higher (>)\"\n",
        "        elif today_price < avg_price:\n",
        "            comparison = \"lower (<)\"\n",
        "        else:\n",
        "            comparison = \"equal (=)\"\n",
        "        \n",
        "        return (f\"{symbol}'s stock price today is ${today_price:.2f}, \"\n",
        "                f\"which is {comparison} than the average over the last {steps}-step in {period}-period (${avg_price:.2f}).\")\n",
        "    \n",
        "    except Exception as e:\n",
        "        return f\"Error retrieving or processing stock data: {e}\"\n"
      ],
      "metadata": {
        "id": "ZEfp8kfiq5Oj"
      }
    },
    {
      "cell_type": "markdown",
      "source": [
        "## 6. Initializing the Agent\n",
        "The agent is initialized with the defined tools and is ready to process user requests.\n",
        "\n",
        "``` python\n",
        "agent = initialize_agent(\n",
        "    tools=[get_current_datetime_tool, get_weather_tool, get_stock_market_news, get_stock_price, get_stock_comparison_tool],\n",
        "    agent=AgentType.OPENAI_FUNCTIONS,    \n",
        "    llm=llm,\n",
        "    verbose=True,\n",
        "    max_iterations=2\n",
        ")\n"
      ],
      "metadata": {
        "id": "LF6TUCVTrWs8"
      }
    },
    {
      "cell_type": "markdown",
      "source": [
        "## 7. Example User Input and the Output\n",
        "Here's an example of how to use the agent to retrieve information:\n",
        "\n",
        "``` python\n",
        "# Example user input to the agent\n",
        "user_input = \"\"\"I need the datetime, weather of Calgary and Rome, today's top 2 news of the stock market, and price of AAPL,\n",
        "and I need to know the average of 50-step in a 3-monthly period of GOOGL.\"\"\"\n",
        "agent.run(user_input)\n"
      ],
      "metadata": {
        "id": "Pn7xU8gcsB3h"
      }
    },
    {
      "cell_type": "markdown",
      "source": [
        "## Output of the Example\n",
        "Here’s how the output of the agent would look in a terminal:\n",
        "``` bash\n",
        "> Entering new AgentExecutor chain...\n",
        "Invoking: `get_current_datetime_tool` with `{}`\n",
        "\n",
        "The current date and time is: 2024-10-05 18:47:35\n",
        "Invoking: `get_weather_tool` with `{'city': 'Calgary'}`\n",
        "\n",
        "The weather in Calgary is currently scattered clouds.\n",
        "Invoking: `get_weather_tool` with `{'city': 'Rome'}`\n",
        "\n",
        "The weather in Rome is currently clear sky.\n",
        "Invoking: `get_stock_market_news` with `{'api_key': 'your_api_key'}`\n",
        "\n",
        "Today's Stock Market News:\n",
        "1. Appleton Partners Inc. MA Decreases Stock Holdings in iShares Core S&P Mid-Cap ETF (NYSEARCA:IJH)\n",
        "   Appleton Partners Inc. MA lessened its stake in iShares Core S&P Mid-Cap ETF by 2.4% during the 3rd quarter.\n",
        "   Read more: https://www.etfdailynews.com/2024/10/04/appleton-partners-inc-ma-decreases-stock-holdings-in-ishares-core-sp-mid-cap-etf-nysearcaijh/\n",
        "\n",
        "2. Appleton Partners Inc. MA Decreases Stock Position in Union Pacific Co. (NYSE:UNP)\n",
        "...\n",
        "- **Current Stock Price of AAPL:** $226.80\n",
        "- **GOOGL's Stock Price Comparison:** Today's price is $167.06, which is higher than the average price of $162.00 over the last 50 days in a 3-month period.\n",
        "\n",
        "> Finished chain.\n",
        "\"Here is the information you requested:\\n\\n- **Current Date and Time:** 2024-10-05 18:47:35\\n- **Weather in Calgary:** Scattered clouds\\n- **Weather in Rome:** Clear sky\\n- ** Scattered clouds\\n- **Weather in Rome:** Clear sky\\n- **Top 2 Stock Market News:**\\n  1. **Appleton Partners Inc. MA Decreases Stock Holdings in iShares Core S&P Mid-Cap ETF (NYSEARCA:IJH)** - Appleton Partners Inc. MA lessened its stake in iShares Core S&P Mid-Cap ETF by 2.4% during the 3rd quarter. [Read more](https://www.etfdailynews.com/2024/10/04/appleton-partners-inc-ma-decreases-stock-holdings-in-ishares-core-sp-mid-cap-etf-nysearcaijh/)\\n  2. **Appleton Partners Inc. MA Decreases Stock Position in Union Pacific Co. (NYSE:UNP)** - Appleton Partners Inc. MA lowered its position in shares of Union Pacific Co. by 2.4% during the third quarter. [Read more](https://www.etfdailynews.com/2024/10/04/appleton-partners-inc-ma-decreases-stock-position-in-union-pacific-co-nyseunp/)\\n- **Current Stock Price of AAPL:** $226.80\\n- **GOOGL's Stock Price Comparison:** Today's price is $167.06, which is higher than the average price of $162.00 over the last 50 days in a 3-month period.\"\n"
      ],
      "metadata": {
        "id": "qhfQbfiCvZIe"
      }
    },
    {
      "cell_type": "markdown",
      "source": [
        "## Results and Outputs\n",
        "The AI agent effectively consolidates various types of information into a single interface, demonstrating its utility and practicality. For example, it can provide:\n",
        "\n",
        "* Real-time weather updates for Calgary and Rome.\n",
        "* Current stock prices for Apple and Google, along with a comparison to their\n",
        " three-month averages.\n",
        "* The top two news headlines related to the stock market, helping users stay informed about recent developments.\n",
        "\n",
        "``` terminal\n",
        "> Finished chain.\n",
        "\"Here is the information you requested:\n",
        "\n",
        "- **Current Date and Time:** 2024-10-05 18:47:35\n",
        "- **Weather in Calgary:** Scattered clouds\n",
        "- **Weather in Rome:** Clear sky\n",
        "- **Top 2 Stock Market News:**\n",
        "  1. **Appleton Partners Inc. MA Decreases Stock Holdings in iShares Core S&P Mid-Cap ETF (NYSEARCA:IJH)** - Appleton Partners Inc. MA lessened its stake in iShares Core S&P Mid-Cap ETF by 2.4% during the 3rd quarter. [Read more]\n",
        "  (https://www.etfdailynews.com/2024/10/04/appleton-partners-inc-ma-decreases-stock-holdings-in-ishares-core-sp-mid-cap-etf-nysearcaijh/)\n",
        "  2. **Appleton Partners Inc. MA Decreases Stock Position in Union Pacific Co. (NYSE:UNP)** - Appleton Partners Inc. MA lowered its position in shares of Union Pacific Co. by 2.4% during the third quarter. [Read more](https://www.etfdailynews.com/2024/10/04/appleton-partners-inc-ma-decreases-stock-position-in-union-pacific-co-nyseunp/)\n",
        "- **Current Stock Price of AAPL:** $226.80\n",
        "- **GOOGL's Stock Price Comparison:** Today's price is $167.06, which is higher than the average price of $162.00 over the last 50 days in a 3-month period.\"\n"
      ],
      "metadata": {
        "id": "6ruk2wVrw0sW"
      }
    },
    {
      "cell_type": "markdown",
      "source": [
        "## Conclusion\n",
        "The developed AI agent serves as an efficient solution for investors by providing timely and accurate information on stock market trends, weather conditions, and significant daily news related to the market. With its flexible architecture and customizable features, this agent enables users to make more informed decisions. By seamlessly integrating live data and advanced analytics, this tool holds substantial potential for financial applications and can offer even greater value to users in the future by incorporating new features, such as predictive modeling and integration with trading platforms.\n",
        "\n",
        "## Future Work\n",
        "Future iterations of the AI agent could include advanced analytics features, such as predictive modeling for stock trends, integration with trading platforms for automated trading, and enhanced user interfaces for better engagement.\n",
        "\n",
        "## Discussion\n",
        "The design of this AI agent illustrates the potential to extend and customize its functionality according to specific client needs. By leveraging a multi-agent design, it can facilitate more complex analyses and decision-making processes, making it a powerful tool for investors.\n",
        "\n",
        "## References\n",
        "* OpenWeatherMap API documentation\n",
        "* NewsAPI documentation\n",
        "* Relevant financial data APIs\n",
        "\n"
      ],
      "metadata": {
        "id": "B1N7omnlsuCX"
      }
    }
  ]
}